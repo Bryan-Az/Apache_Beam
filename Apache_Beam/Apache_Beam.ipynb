{
 "cells": [
  {
   "cell_type": "markdown",
   "source": [
    "## Assignment Part 3 - Apache Beam"
   ],
   "metadata": {
    "collapsed": false,
    "pycharm": {
     "name": "#%% md\n"
    }
   }
  },
  {
   "cell_type": "markdown",
   "source": [
    "### Apache beam features\n",
    "The data used in this section will be the same data used in the Israel-Palestine_EDA notebook, as there are some data preprocessing steps that were taken in that notebook that could be automated with beam.\n",
    "\n",
    "Demonstrating Apache beam features by creating a data ingestion, validation, and preprocessing pipeline (i.e composite transform, pipeline io, triggers, windowing , pardo)\n"
   ],
   "metadata": {
    "collapsed": false,
    "pycharm": {
     "name": "#%% md\n"
    }
   }
  },
  {
   "cell_type": "code",
   "execution_count": 1,
   "outputs": [],
   "source": [
    "import apache_beam as beam\n",
    "import pandas as pd\n",
    "import statistics\n",
    "import os"
   ],
   "metadata": {
    "collapsed": false,
    "pycharm": {
     "name": "#%%\n"
    }
   }
  },
  {
   "cell_type": "code",
   "execution_count": 2,
   "outputs": [],
   "source": [
    "israel_v_palestine = pd.read_csv('Israel-Palestine.csv')"
   ],
   "metadata": {
    "collapsed": false,
    "pycharm": {
     "name": "#%%\n"
    }
   }
  },
  {
   "cell_type": "code",
   "execution_count": 3,
   "outputs": [
    {
     "data": {
      "text/plain": "Year                                                  0\nCountry                                               0\nGDP (in USD)                                          0\nPopulation                                            0\nGDP Growth Rate (%)                                   0\nFertility Rate                                        0\nInfant Mortality Rate (per 1,000 live births)         0\nMaternal Mortality Rate (per 100,000 live births)     0\nAgricultural Output (in USD)                          0\nActive Military Personnel                            22\nReserve Military Personnel                           22\nLiteracy Rate (%)                                    13\nIT Output (in USD)                                   13\nNumber of Tanks                                      22\nNumber of Submarines                                 22\nNumber of Armoured Vehicles                          22\ndtype: int64"
     },
     "execution_count": 3,
     "metadata": {},
     "output_type": "execute_result"
    }
   ],
   "source": [
    "israel_v_palestine.isna().sum()"
   ],
   "metadata": {
    "collapsed": false,
    "pycharm": {
     "name": "#%%\n"
    }
   }
  },
  {
   "cell_type": "markdown",
   "source": [
    "### Data Ingestion"
   ],
   "metadata": {
    "collapsed": false,
    "pycharm": {
     "name": "#%% md\n"
    }
   }
  },
  {
   "cell_type": "markdown",
   "source": [
    "This is a composite transform to fill in missing values with the mean of the columns in the data that have missing values (columns 9-16) excluding column 12"
   ],
   "metadata": {
    "collapsed": false,
    "pycharm": {
     "name": "#%% md\n"
    }
   }
  },
  {
   "cell_type": "code",
   "execution_count": 4,
   "outputs": [],
   "source": [
    "# Custom Pardo to fill missing values with the mean of the column\n",
    "class FillMissingWithMean(beam.DoFn):\n",
    "    def __init__(self):\n",
    "        self.column_means = None\n",
    "\n",
    "    def setup(self):\n",
    "        # Initialize a dictionary to store column means for all columns\n",
    "        self.column_means = {}\n",
    "        for i in range(9, 17):  # Columns 9 through 16\n",
    "            self.column_means[i] = 0.0\n",
    "\n",
    "    def process(self, element):\n",
    "        # Calculate column means for the first element\n",
    "        if not self.column_means:\n",
    "            for i in range(len(element)):\n",
    "                if i in self.column_means:\n",
    "                    column_data = [float(x[i]) for x in element if x[i] is not None]\n",
    "                    if column_data:\n",
    "                        self.column_means[i] = sum(column_data) / len(column_data)\n",
    "                    else:\n",
    "                        self.column_means[i] = None\n",
    "        # Fill missing values with column mean for columns 9-11 and 13-16 (0-based index), excluding column 12\n",
    "        for i in range(9, 16):  # Columns 9 through 15\n",
    "            if i != 12:  # Exclude column 12\n",
    "                if element[i] is None:\n",
    "                    element[i] = str(self.column_means[i])\n",
    "        yield element\n"
   ],
   "metadata": {
    "collapsed": false,
    "pycharm": {
     "name": "#%%\n"
    }
   }
  },
  {
   "cell_type": "code",
   "execution_count": 5,
   "outputs": [],
   "source": [
    "# Define a function to convert a list to a CSV string to save data to a file\n",
    "def list_to_csv_string(row):\n",
    "    return ','.join(row)"
   ],
   "metadata": {
    "collapsed": false,
    "pycharm": {
     "name": "#%%\n"
    }
   }
  },
  {
   "cell_type": "code",
   "execution_count": 6,
   "outputs": [],
   "source": [
    "pipe = beam.Pipeline()"
   ],
   "metadata": {
    "collapsed": false,
    "pycharm": {
     "name": "#%%\n"
    }
   }
  },
  {
   "cell_type": "code",
   "execution_count": 7,
   "outputs": [
    {
     "name": "stderr",
     "output_type": "stream",
     "text": [
      "WARNING:apache_beam.runners.interactive.interactive_environment:Dependencies required for Interactive Beam PCollection visualization are not available, please use: `pip install apache-beam[interactive]` to install necessary dependencies to enable all data visualization features.\n"
     ]
    },
    {
     "data": {
      "application/javascript": "\n        if (typeof window.interactive_beam_jquery == 'undefined') {\n          var jqueryScript = document.createElement('script');\n          jqueryScript.src = 'https://code.jquery.com/jquery-3.4.1.slim.min.js';\n          jqueryScript.type = 'text/javascript';\n          jqueryScript.onload = function() {\n            var datatableScript = document.createElement('script');\n            datatableScript.src = 'https://cdn.datatables.net/1.10.20/js/jquery.dataTables.min.js';\n            datatableScript.type = 'text/javascript';\n            datatableScript.onload = function() {\n              window.interactive_beam_jquery = jQuery.noConflict(true);\n              window.interactive_beam_jquery(document).ready(function($){\n                \n              });\n            }\n            document.head.appendChild(datatableScript);\n          };\n          document.head.appendChild(jqueryScript);\n        } else {\n          window.interactive_beam_jquery(document).ready(function($){\n            \n          });\n        }"
     },
     "metadata": {},
     "output_type": "display_data"
    }
   ],
   "source": [
    "with beam.Pipeline() as p:\n",
    "    # Read data from a text file, skip header lines\n",
    "    data = p | beam.io.ReadFromText('Israel-Palestine.csv', skip_header_lines=True)\n",
    "\n",
    "    # Apply transformations to split each line into a list of values\n",
    "    transformed_data = data | beam.Map(lambda x: x.split(','))\n",
    "    filled_data = transformed_data | beam.ParDo(FillMissingWithMean())\n",
    "    filled_data = filled_data | beam.Map(list_to_csv_string)\n",
    "    filled_data | beam.io.WriteToText('./', file_name_suffix='.txt')\n",
    "os.rename('-00000-of-00001.txt', 'filled_missing.csv')"
   ],
   "metadata": {
    "collapsed": false,
    "pycharm": {
     "name": "#%%\n"
    }
   }
  },
  {
   "cell_type": "code",
   "execution_count": 8,
   "outputs": [],
   "source": [
    "israel_in_pipe = { pipe\n",
    "                      |beam.io.ReadFromText('filled_missing.csv', skip_header_lines=True)\n",
    "                      |beam.Map(lambda x: x.split(','))\n",
    "                      |beam.Filter(lambda x: x[1] == 'Israel') # x[1] is Country column\n",
    "                      |beam.Map(print)\n",
    "                      }"
   ],
   "metadata": {
    "collapsed": false,
    "pycharm": {
     "name": "#%%\n"
    }
   }
  },
  {
   "cell_type": "code",
   "execution_count": 9,
   "outputs": [],
   "source": [
    "palestine_in_pipe = { pipe\n",
    "                 |beam.io.ReadFromText('filled_missing.csv', skip_header_lines=True)\n",
    "                 |beam.Map(lambda x: x.split(','))\n",
    "                 |beam.Filter(lambda x: x[1] == 'Palestine') # x[1] is Country column\n",
    "                 |beam.Map(print)\n",
    "}"
   ],
   "metadata": {
    "collapsed": false,
    "pycharm": {
     "name": "#%%\n"
    }
   }
  },
  {
   "cell_type": "code",
   "execution_count": 10,
   "outputs": [
    {
     "name": "stdout",
     "output_type": "stream",
     "text": [
      "['2001', 'Israel', '131.02 billion', '\"6', '165', '000\"', '-0.47', '2.89', '4.8', '6.7', '5.17 billion', '\"166', '500\"', '\"445', '000\"', '97.5', '6.89 billion', '\"2', '791\"', '3', '\"10', '814\"']\n",
      "['2002', 'Israel', '126.64 billion', '\"6', '263', '000\"', '-0.35', '2.98', '4.6', '5.9', '4.76 billion', '\"163', '000\"', '\"375', '000\"', '97.9', '7.02 billion', '\"2', '821\"', '3', '\"10', '885\"']\n",
      "['2003', 'Israel', '129.56 billion', '\"6', '684', '000\"', '2.8', '2.81', '4.3', '6.1', '5.10 billion', '\"160', '000\"', '\"445', '000\"', '97.9', '7.15 billion', '\"2', '819\"', '3', '\"10', '885\"']\n",
      "['2004', 'Israel', '143.53 billion', '\"6', '830', '000\"', '4.5', '2.84', '4.1', '6.8', '5.33 billion', '\"159', '000\"', '\"428', '000\"', '97.9', '7.36 billion', '\"2', '798\"', '3', '\"10', '886\"']\n",
      "['2005', 'Israel', '155.05 billion', '\"6', '925', '000\"', '4.97', '2.87', '3.9', '6.4', '5.38 billion', '\"156', '000\"', '\"411', '000\"', '98.4', '7.69 billion', '\"2', '771\"', '3', '\"10', '876\"']\n",
      "['2006', 'Israel', '179.02 billion', '\"7', '112', '000\"', '4.6', '2.87', '3.8', '6.1', '5.48 billion', '\"176', '500\"', '\"438', '000\"', '97.8', '6.90 billion', '\"2', '760\"', '3', '\"10', '634\"']\n",
      "['2007', 'Israel', '195.35 billion', '\"7', '295', '000\"', '4.9', '2.9', '3.7', '5.9', '5.60 billion', '\"179', '900\"', '\"436', '000\"', '97.8', '7.20 billion', '\"2', '760\"', '3', '\"10', '634\"']\n",
      "['2008', 'Israel', '215.95 billion', '\"7', '413', '000\"', '1.2', '2.93', '3.7', '5.6', '5.84 billion', '\"177', '400\"', '\"435', '000\"', '97.8', '7.40 billion', '\"2', '760\"', '3', '\"10', '634\"']\n",
      "['2009', 'Israel', '202.98 billion', '\"7', '602', '000\"', '0.8', '2.93', '4', '5.5', '5.80 billion', '\"169', '700\"', '\"434', '000\"', '97.8', '7.50 billion', '\"2', '760\"', '3', '\"10', '634\"']\n",
      "['2010', 'Israel', '217.90 billion', '\"7', '746', '000\"', '4.6', '2.96', '3.7', '5.5', '5.85 billion', '\"170', '300\"', '\"431', '000\"', '97.8', '7.80 billion', '\"2', '760\"', '3', '\"10', '634\"']\n",
      "['2011', 'Israel', '242.89 billion', '\"7', '907', '000\"', '4.6', '2.96', '3.5', '4.9', '5.90 billion', '\"170', '750\"', '\"429', '500\"', '97.8', '8.20 billion', '\"2', '760\"', '3', '\"10', '634\"']\n",
      "['2012', 'Israel', '254.94 billion', '\"8', '081', '000\"', '3.3', '2.99', '3.3', '4.7', '5.97 billion', '\"171', '450\"', '\"428', '000\"', '97.8', '8.60 billion', '\"2', '760\"', '5', '\"10', '634\"']\n",
      "['2013', 'Israel', '272.18 billion', '\"8', '192', '000\"', '3.3', '3.01', '3.2', '4.6', '6.02 billion', '\"174', '550\"', '\"424', '750\"', '97.8', '9.00 billion', '\"2', '760\"', '5', '\"10', '634\"']\n",
      "['2014', 'Israel', '291.03 billion', '\"8', '299', '000\"', '3.6', '3.02', '3.1', '4.3', '6.07 billion', '\"177', '350\"', '\"421', '500\"', '97.8', '9.30 billion', '\"2', '760\"', '5', '\"10', '634\"']\n",
      "['2015', 'Israel', '309.01 billion', '\"8', '431', '000\"', '2.6', '3.03', '3', '4.1', '6.09 billion', '\"176', '500\"', '\"418', '500\"', '97.8', '9.60 billion', '\"2', '760\"', '5', '\"10', '634\"']\n",
      "['2016', 'Israel', '321.57 billion', '\"8', '548', '000\"', '4', '3.06', '2.9', '3.8', '6.10 billion', '\"176', '500\"', '\"415', '000\"', '97.8', '10.00 billion', '\"2', '760\"', '5', '\"10', '634\"']\n",
      "['2017', 'Israel', '348.70 billion', '\"8', '712', '000\"', '3.4', '3.06', '2.8', '3.7', '6.16 billion', '\"174', '500\"', '\"410', '000\"', '97.8', '10.70 billion', '\"2', '760\"', '5', '\"10', '634\"']\n",
      "['2018', 'Israel', '370.12 billion', '\"8', '972', '000\"', '3.5', '3.06', '2.7', '3.6', '6.20 billion', '\"170', '000\"', '\"405', '000\"', '97.8', '11.20 billion', '\"2', '760\"', '5', '\"10', '634\"']\n",
      "['2019', 'Israel', '395.53 billion', '\"9', '136', '000\"', '3.4', '3.06', '2.6', '3.5', '6.22 billion', '\"169', '500\"', '\"399', '000\"', '97.8', '11.70 billion', '\"2', '760\"', '5', '\"10', '634\"']\n",
      "['2020', 'Israel', '375.82 billion', '\"9', '227', '000\"', '-2.4', '3.05', '2.7', '2.9', '6.21 billion', '\"169', '500\"', '\"395', '000\"', '97.8', '42.45 billion', '\"2', '760\"', '5', '\"10', '634\"']\n",
      "['2021', 'Israel', '398.02 billion', '\"9', '390', '000\"', '1.63', '3.02', '2.6', '3.3', '2.86 billion', '\"170', '000\"', '\"465', '000\"', '97.8', '46.21 billion', '\"2', '760\"', '5', '\"10', '634\"']\n",
      "['2000', 'Palestine', '4.56 billion', '\"3', '374', '000\"', '5.33', '5.36', '24.6', '26', '880 million', 'N/A', 'N/A', '90.3', '0.115 billion', 'N/A', 'N/A', 'N/A']\n",
      "['2001', 'Palestine', '4.59 billion', '\"3', '400', '000\"', '-50', '5.22', '22.5', '24.4', '925 million', 'N/A', 'N/A', '90.8', '0.122 billion', 'N/A', 'N/A', 'N/A']\n",
      "['2002', 'Palestine', '4.34 billion', '\"3', '421', '000\"', '-46.3', '5.07', '20.2', '21.3', '914 million', 'N/A', 'N/A', '91.2', '0.132 billion', 'N/A', 'N/A', 'N/A']\n",
      "['2003', 'Palestine', '3.56 billion', '\"3', '693', '000\"', '-16.1', '5.15', '23', '30.9', '819 million', 'N/A', 'N/A', '91.7', '0.143 billion', 'N/A', 'N/A', 'N/A']\n",
      "['2004', 'Palestine', '3.89 billion', '\"3', '791', '000\"', '10.5', '4.95', '21.6', '29.4', '876 million', 'N/A', 'N/A', '92.1', '0.154 billion', 'N/A', 'N/A', 'N/A']\n",
      "['2005', 'Palestine', '4.13 billion', '\"3', '890', '000\"', '7.6', '4.78', '19.7', '28.1', '927 million', 'N/A', 'N/A', '92.5', '0.165 billion', 'N/A', 'N/A', 'N/A']\n",
      "['2006', 'Palestine', '4.47 billion', '\"3', '762', '000\"', '5.8', '4.14', '18.6', '25.4', '929 million', 'N/A', 'N/A', '91.9', '0.230 billion', 'N/A', 'N/A', 'N/A']\n",
      "['2007', 'Palestine', '4.96 billion', '\"3', '865', '000\"', '5.3', '4.07', '17.6', '24.3', '978 million', 'N/A', 'N/A', 'N/A', 'N/A', 'N/A', 'N/A', 'N/A']\n",
      "['2008', 'Palestine', '5.05 billion', '\"3', '966', '000\"', '4.2', '3.98', '16.7', '23.2', '1.02 billion', 'N/A', 'N/A', 'N/A', 'N/A', 'N/A', 'N/A', 'N/A']\n",
      "['2009', 'Palestine', '4.98 billion', '\"4', '018', '000\"', '6.8', '4', '15.9', '22.4', '1.04 billion', 'N/A', 'N/A', 'N/A', 'N/A', 'N/A', 'N/A', 'N/A']\n",
      "['2010', 'Palestine', '4.95 billion', '\"4', '070', '000\"', '8.5', '3.99', '15.1', '21.9', '1.08 billion', 'N/A', 'N/A', 'N/A', 'N/A', 'N/A', 'N/A', 'N/A']\n",
      "['2011', 'Palestine', '5.39 billion', '\"4', '198', '000\"', '-0.5', '3.87', '14.3', '21.1', '1.12 billion', 'N/A', 'N/A', 'N/A', 'N/A', 'N/A', 'N/A', 'N/A']\n",
      "['2012', 'Palestine', '5.65 billion', '\"4', '297', '000\"', '5.9', '3.83', '13.8', '20.4', '1.15 billion', 'N/A', 'N/A', 'N/A', 'N/A', 'N/A', 'N/A', 'N/A']\n",
      "['2013', 'Palestine', '5.69 billion', '\"4', '404', '000\"', '4.9', '3.79', '13.4', '20', '1.17 billion', 'N/A', 'N/A', 'N/A', 'N/A', 'N/A', 'N/A', 'N/A']\n",
      "['2014', 'Palestine', '5.71 billion', '\"4', '530', '000\"', '5.9', '3.74', '12.8', '19.5', '1.20 billion', 'N/A', 'N/A', 'N/A', 'N/A', 'N/A', 'N/A', 'N/A']\n",
      "['2015', 'Palestine', '5.87 billion', '\"4', '692', '000\"', '3.3', '3.69', '12.3', '18.9', '1.23 billion', 'N/A', 'N/A', 'N/A', 'N/A', 'N/A', 'N/A', 'N/A']\n",
      "['2016', 'Palestine', '5.93 billion', '\"4', '768', '000\"', '4', '3.64', '11.9', '18.5', '1.26 billion', 'N/A', 'N/A', 'N/A', 'N/A', 'N/A', 'N/A', 'N/A']\n",
      "['2017', 'Palestine', '6.00 billion', '\"4', '816', '000\"', '3.1', '3.57', '11.4', '17.9', '1.29 billion', 'N/A', 'N/A', 'N/A', 'N/A', 'N/A', 'N/A', 'N/A']\n",
      "['2018', 'Palestine', '6.10 billion', '\"4', '857', '000\"', '0.9', '3.53', '11', '17.5', '1.32 billion', 'N/A', 'N/A', 'N/A', 'N/A', 'N/A', 'N/A', 'N/A']\n",
      "['2019', 'Palestine', '6.09 billion', '\"4', '895', '000\"', '1', '3.48', '10.6', '17.1', '1.35 billion', 'N/A', 'N/A', 'N/A', 'N/A', 'N/A', 'N/A', 'N/A']\n",
      "['2020', 'Palestine', '6.20 billion', '\"4', '934', '000\"', '-7.7', '3.46', '10.3', '16.7', '1.37 billion', 'N/A', '', '98.5', '1.03 billion', 'N/A', 'N/A', 'N/A']\n",
      "['2021', 'Palestine', '15.05 billion', '\"5', '368', '000\"', '-11.4', '3.24', '12.6', '15.2', '352 million', 'N/A', 'N/A', '98.6', '1.10 billion', 'N/A', 'N/A', 'N/A']\n"
     ]
    },
    {
     "data": {
      "text/plain": "<apache_beam.runners.portability.fn_api_runner.fn_runner.RunnerResult at 0x7fddd1360e80>"
     },
     "execution_count": 10,
     "metadata": {},
     "output_type": "execute_result"
    }
   ],
   "source": [
    "pipe.run()"
   ],
   "metadata": {
    "collapsed": false,
    "pycharm": {
     "name": "#%%\n"
    }
   }
  }
 ],
 "metadata": {
  "kernelspec": {
   "name": "dataenv",
   "language": "python",
   "display_name": "data env"
  },
  "language_info": {
   "codemirror_mode": {
    "name": "ipython",
    "version": 2
   },
   "file_extension": ".py",
   "mimetype": "text/x-python",
   "name": "python",
   "nbconvert_exporter": "python",
   "pygments_lexer": "ipython2",
   "version": "2.7.6"
  }
 },
 "nbformat": 4,
 "nbformat_minor": 0
}